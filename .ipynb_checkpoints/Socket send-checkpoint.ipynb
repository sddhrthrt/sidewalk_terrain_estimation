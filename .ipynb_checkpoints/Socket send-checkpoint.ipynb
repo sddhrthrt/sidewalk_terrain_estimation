{
 "cells": [
  {
   "cell_type": "code",
   "execution_count": null,
   "metadata": {},
   "outputs": [],
   "source": [
    "import socket\n",
    "from struct import *\n",
    " \n",
    "#UDP_IP = \"96.49.100.238\"\n",
    "#UDP_IP = \"127.0.0.1\"\n",
    "UDP_IP = socket.gethostbyname(socket.gethostname())\n",
    "print(\"Receiver IP: \", \"100.64.81.113\")\n",
    "#UDP_PORT = 6000\n",
    "UDP_PORT = 5555\n",
    "print(\"Port: \", UDP_PORT)\n",
    "sock = socket.socket(socket.AF_INET, # Internet\n",
    "                    socket.SOCK_DGRAM) # UDP\n",
    "sock.bind((\"\", UDP_PORT))"
   ]
  },
  {
   "cell_type": "code",
   "execution_count": null,
   "metadata": {},
   "outputs": [],
   "source": [
    "while True:\n",
    "    data, addr = sock.recvfrom(1024) # buffer size is 1024 bytes\n",
    "    #print \"received message:\", data    \n",
    "    #print \"received message: %1.3f %1.3f %1.3f %1.3f\", unpack_from ('!f', data, 0), unpack_from ('!f', data, 4), unpack_from ('!f', data, 8), unpack_from ('!f', data, 12)     \n",
    "    print(\"received message: \", \"%1.4f\" %unpack_from ('!f', data, 0), \"%1.4f\" %unpack_from ('!f', data, 4), \"%1.4f\" %unpack_from ('!f', data, 8), \"%1.4f\" %unpack_from ('!f', data, 12),\"%1.4f\" %unpack_from ('!f', data, 16), \"%1.4f\" %unpack_from ('!f', data, 20), \"%1.4f\" %unpack_from ('!f', data, 24), \"%1.4f\" %unpack_from ('!f', data, 28),\"%1.4f\" %unpack_from ('!f', data, 32), \"%1.4f\" %unpack_from ('!f', data, 36), \"%1.4f\" %unpack_from ('!f', data, 40), \"%1.4f\" %unpack_from ('!f', data, 44), \"%1.4f\" %unpack_from ('!f', data, 48), \"%1.4f\" %unpack_from ('!f', data, 52), \"%1.4f\" %unpack_from ('!f', data, 56), \"%1.4f\" %unpack_from ('!f', data, 60), \"%1.4f\" %unpack_from ('!f', data, 64), \"%1.4f\" %unpack_from ('!f', data, 68), \"%1.4f\" %unpack_from ('!f', data, 72), \"%1.4f\" %unpack_from ('!f', data, 76), \"%1.4f\" %unpack_from ('!f', data, 80), \"%1.4f\" %unpack_from ('!f', data, 84), \"%1.4f\" %unpack_from ('!f', data, 88), \"%1.4f\" %unpack_from ('!f', data, 92))"
   ]
  },
  {
   "cell_type": "code",
   "execution_count": 4,
   "metadata": {},
   "outputs": [
    {
     "data": {
      "text/plain": [
       "13"
      ]
     },
     "execution_count": 4,
     "metadata": {},
     "output_type": "execute_result"
    }
   ],
   "source": [
    "import socket\n",
    "UDP_IP = \"100.64.81.113\"\n",
    "UDP_PORT = 5555\n",
    "MESSAGE = b\"Hello, World!\"\n",
    "\n",
    "# print \"UDP target IP:\", UDP_IP\n",
    "# print \"UDP target port:\", UDP_PORT\n",
    "# print \"message:\", MESSAGE\n",
    "\n",
    "sock = socket.socket(socket.AF_INET, # Internet\n",
    "                 socket.SOCK_DGRAM) # UDP\n",
    "sock.sendto(MESSAGE, (UDP_IP, UDP_PORT))\n"
   ]
  }
 ],
 "metadata": {
  "kernelspec": {
   "display_name": "Python 3",
   "language": "python",
   "name": "python3"
  },
  "language_info": {
   "codemirror_mode": {
    "name": "ipython",
    "version": 3
   },
   "file_extension": ".py",
   "mimetype": "text/x-python",
   "name": "python",
   "nbconvert_exporter": "python",
   "pygments_lexer": "ipython3",
   "version": "3.6.3"
  }
 },
 "nbformat": 4,
 "nbformat_minor": 2
}
